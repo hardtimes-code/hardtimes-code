{
  "nbformat": 4,
  "nbformat_minor": 0,
  "metadata": {
    "colab": {
      "provenance": [],
      "authorship_tag": "ABX9TyMQv2OESwEovXWWrEIi01Ei",
      "include_colab_link": true
    },
    "kernelspec": {
      "name": "python3",
      "display_name": "Python 3"
    },
    "language_info": {
      "name": "python"
    }
  },
  "cells": [
    {
      "cell_type": "markdown",
      "metadata": {
        "id": "view-in-github",
        "colab_type": "text"
      },
      "source": [
        "<a href=\"https://colab.research.google.com/github/hardtimes-code/hardtimes-code/blob/main/SAM1.ipynb\" target=\"_parent\"><img src=\"https://colab.research.google.com/assets/colab-badge.svg\" alt=\"Open In Colab\"/></a>"
      ]
    },
    {
      "source": [
        "class User:\n",
        "  def __init__(self, name):\n",
        "    self.name = name\n",
        "    self.history = []\n",
        "    self.profile = {}\n",
        "\n",
        "class Assistant:\n",
        "  def __init__(self):\n",
        "    self.users = {}\n",
        "    self.learning_rate = 0.1\n",
        "\n",
        "  def add_user(self, user):\n",
        "    self.users[user.name] = user\n",
        "\n",
        "  def update_history(self, user_name, interaction):\n",
        "    self.users[user_name].history.append(interaction)\n",
        "\n",
        "  def update_profile(self, user_name, key, value):\n",
        "    self.users[user_name].profile[key] = value\n",
        "\n",
        "  def learn_from_mistakes(self, mistake, correct_response):\n",
        "    #This is a placeholder for the learning algorithm.\n",
        "    #In a real system, you would use machine learning techniques to update the assistants behavior.\n",
        "    self.learning_rate *= 0.9\n",
        "\n",
        "  def respond(self, user_name, user_input):\n",
        "    #Update thee user's history\n",
        "    self.update_history(user_name, user_input)\n",
        "\n",
        "    # Generate a response\n",
        "    response = \"Hello, \" + user_name + \". \"\n",
        "    response += \"You said: \" + user_input\n",
        "\n",
        "    return response\n",
        "\n",
        "#Create an instance of User with the name \"Kristi\"\n",
        "user = User(\"Kristi\")\n",
        "\n",
        "#Create an instance of Assistant\n",
        "assistant = Assistant()\n",
        "\n",
        "#Add the user to the assistant's users\n",
        "assistant.add_user(user)\n",
        "\n",
        "#Example of how the assistant would respond to an input from Kristi\n",
        "print(assistant.respond(\"Kristi\", \"Hello, Assistant!\"))\n",
        "\n",
        "#If the assistant makes a mistake, you can use the learn_from_mistake method to correct it\n",
        "assistant.learn_from_mistake(\"Mistake\", \"Correct Response\")\n"
      ],
      "cell_type": "code",
      "metadata": {
        "colab": {
          "base_uri": "https://localhost:8080/",
          "height": 245
        },
        "id": "yw-XE1lMuT_h",
        "outputId": "82103883-319e-4ac5-c45e-995f1217092c"
      },
      "execution_count": 10,
      "outputs": [
        {
          "output_type": "stream",
          "name": "stdout",
          "text": [
            "Hello, Kristi. You said: Hello, Assistant!\n"
          ]
        },
        {
          "output_type": "error",
          "ename": "AttributeError",
          "evalue": "'Assistant' object has no attribute 'learn_from_mistake'",
          "traceback": [
            "\u001b[0;31m---------------------------------------------------------------------------\u001b[0m",
            "\u001b[0;31mAttributeError\u001b[0m                            Traceback (most recent call last)",
            "\u001b[0;32m<ipython-input-10-85d3bfdab832>\u001b[0m in \u001b[0;36m<cell line: 49>\u001b[0;34m()\u001b[0m\n\u001b[1;32m     47\u001b[0m \u001b[0;34m\u001b[0m\u001b[0m\n\u001b[1;32m     48\u001b[0m \u001b[0;31m#If the assistant makes a mistake, you can use the learn_from_mistake method to correct it\u001b[0m\u001b[0;34m\u001b[0m\u001b[0;34m\u001b[0m\u001b[0m\n\u001b[0;32m---> 49\u001b[0;31m \u001b[0massistant\u001b[0m\u001b[0;34m.\u001b[0m\u001b[0mlearn_from_mistake\u001b[0m\u001b[0;34m(\u001b[0m\u001b[0;34m\"Mistake\"\u001b[0m\u001b[0;34m,\u001b[0m \u001b[0;34m\"Correct Response\"\u001b[0m\u001b[0;34m)\u001b[0m\u001b[0;34m\u001b[0m\u001b[0;34m\u001b[0m\u001b[0m\n\u001b[0m",
            "\u001b[0;31mAttributeError\u001b[0m: 'Assistant' object has no attribute 'learn_from_mistake'"
          ]
        }
      ]
    },
    {
      "source": [
        "class Assistant:\n",
        "  def __init__(self):\n",
        "    self.users = {}\n",
        "    self.learning_rate = 0.1\n",
        "\n",
        "  def add_user(self, user):\n",
        "    self.users[user.name] = user\n",
        "\n",
        "  def update_history(self, user_name, interaction):\n",
        "    self.users[user_name].history.append(interaction)\n",
        "\n",
        "  def update_profile(self, user_name, key, value):\n",
        "    self.users[user_name].profile[key] = value\n",
        "\n",
        "  def learn_from_mistake(self, mistake, correct_response):\n",
        "    #This is a placeholder for the learning algorithm.\n",
        "    #In a real system, you would use machine learning techniques to update the assistants behavior.\n",
        "    self.learning_rate *= 0.9"
      ],
      "cell_type": "code",
      "metadata": {
        "id": "WB1eKjPCu_bm"
      },
      "execution_count": 11,
      "outputs": []
    }
  ]
}